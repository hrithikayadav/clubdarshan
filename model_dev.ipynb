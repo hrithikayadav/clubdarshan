{
 "cells": [
  {
   "cell_type": "code",
   "execution_count": null,
   "metadata": {
    "collapsed": true
   },
   "outputs": [],
   "source": [
    "from sklearn import datasets\n",
    "from sklearn.model_selection import train_test_split\n",
    "from sklearn.linear_model import LogisticRegression\n",
    "from sklearn.model_selection import cross_val_score\n",
    "from sklearn.metrics import confusion_matrix\n",
    "from joblib import dump, load\n",
    "import numpy as np\n",
    "import pickle"
   ]
  },
  {
   "cell_type": "code",
   "execution_count": null,
   "metadata": {
    "collapsed": true
   },
   "outputs": [],
   "source": [
    "iris_ds = datasets.load_iris()"
   ]
  },
  {
   "cell_type": "code",
   "execution_count": null,
   "metadata": {
    "collapsed": true
   },
   "outputs": [],
   "source": [
    "iris_feat = iris_ds.data\n",
    "iris_class = iris_ds.target"
   ]
  },
  {
   "cell_type": "code",
   "execution_count": null,
   "metadata": {
    "collapsed": true
   },
   "outputs": [],
   "source": [
    "iris_feat[0]"
   ]
  },
  {
   "cell_type": "code",
   "execution_count": null,
   "metadata": {
    "collapsed": true
   },
   "outputs": [],
   "source": [
    "iris_class[0]"
   ]
  },
  {
   "cell_type": "code",
   "execution_count": null,
   "metadata": {
    "collapsed": true
   },
   "outputs": [],
   "source": [
    "X_train, X_test, y_train, y_test = train_test_split(iris_feat, \n",
    "                                                    iris_class, \n",
    "                                                    test_size=0.25, \n",
    "                                                    random_state=42,\n",
    "                                                    shuffle=True)"
   ]
  },
  {
   "cell_type": "markdown",
   "metadata": {},
   "source": [
    "### Fit the Model to the Training Data"
   ]
  },
  {
   "cell_type": "code",
   "execution_count": null,
   "metadata": {
    "collapsed": true
   },
   "outputs": [],
   "source": [
    "#Instantiate, fit, predict the logistic regression model.\n",
    "lr = LogisticRegression(random_state=42)\n",
    "\n",
    "lr.fit(X_train, y_train)\n",
    "\n",
    "y_pred_class = lr.predict(X_test)\n"
   ]
  },
  {
   "cell_type": "code",
   "execution_count": null,
   "metadata": {},
   "outputs": [],
   "source": [
    "lr"
   ]
  },
  {
   "cell_type": "code",
   "execution_count": null,
   "metadata": {},
   "outputs": [],
   "source": [
    "confusion_matrix(y_test, y_pred_class)"
   ]
  },
  {
   "cell_type": "code",
   "execution_count": null,
   "metadata": {
    "collapsed": true
   },
   "outputs": [],
   "source": [
    "dump(lr, filename='iris_class')"
   ]
  },
  {
   "cell_type": "code",
   "execution_count": null,
   "metadata": {
    "collapsed": true
   },
   "outputs": [],
   "source": [
    "pkl_lr = load('iris_class')"
   ]
  },
  {
   "cell_type": "code",
   "execution_count": null,
   "metadata": {
    "collapsed": true
   },
   "outputs": [],
   "source": [
    "y_pred_class_2 = pkl_lr.predict(X_test)"
   ]
  },
  {
   "cell_type": "code",
   "execution_count": null,
   "metadata": {
    "collapsed": true
   },
   "outputs": [],
   "source": [
    "confusion_matrix(y_test, y_pred_class_2)"
   ]
  },
  {
   "cell_type": "code",
   "execution_count": null,
   "metadata": {
    "collapsed": true
   },
   "outputs": [],
   "source": [
    "x_input = iris_feat[0].reshape(1,-1)"
   ]
  },
  {
   "cell_type": "code",
   "execution_count": null,
   "metadata": {
    "collapsed": true
   },
   "outputs": [],
   "source": [
    "pkl_lr.predict(x_input)"
   ]
  },
  {
   "cell_type": "code",
   "execution_count": null,
   "metadata": {
    "collapsed": true
   },
   "outputs": [],
   "source": [
    "pkl_lr.predict_proba(x_input)"
   ]
  },
  {
   "cell_type": "code",
   "execution_count": null,
   "metadata": {
    "collapsed": true
   },
   "outputs": [],
   "source": [
    "pkl_filename = \"pickle_model.pkl\"\n",
    "with open(pkl_filename, 'wb') as f:\n",
    "    pickle.dump(lr, f)"
   ]
  },
  {
   "cell_type": "code",
   "execution_count": null,
   "metadata": {
    "collapsed": true
   },
   "outputs": [],
   "source": []
  },
  {
   "cell_type": "code",
   "execution_count": null,
   "metadata": {
    "collapsed": true
   },
   "outputs": [],
   "source": [
    "# Load from file\n",
    "with open(pkl_filename, 'rb') as f:\n",
    "    pickle_model = pickle.load(f)"
   ]
  },
  {
   "cell_type": "code",
   "execution_count": null,
   "metadata": {
    "collapsed": true
   },
   "outputs": [],
   "source": [
    "y_pred_class_2 = pickle_model.predict(X_test)"
   ]
  },
  {
   "cell_type": "code",
   "execution_count": null,
   "metadata": {},
   "outputs": [],
   "source": [
    "confusion_matrix(y_test, y_pred_class_2)"
   ]
  },
  {
   "cell_type": "markdown",
   "metadata": {},
   "source": [
    "### Run Model From `pkl` File"
   ]
  },
  {
   "cell_type": "code",
   "execution_count": null,
   "metadata": {},
   "outputs": [],
   "source": [
    "from joblib import dump, load\n",
    "import numpy as np\n",
    "\n",
    "pkl_lr = load('iris_class')\n",
    "x_input = np.array([5.1, 3.5, 1.4, 0.2]).reshape(1, -1)\n",
    "\n",
    "y_pred_class = pkl_lr.predict(x_input)\n",
    "y_pred_prob = pkl_lr.predict_proba(x_input)\n",
    "\n",
    "def class2string(x):\n",
    "    if x == np.array([0]):\n",
    "        return 'Setosa'\n",
    "    elif x == np.array([1]):\n",
    "        return 'Virginica'\n",
    "    elif x == np.array([2]):\n",
    "        return 'Versicolor'\n",
    "    else:\n",
    "        raise Exception('Based on the input values provided, unable to predict the Iris class of {}'.format(x_input))\n",
    "\n",
    "y_pred_class_dict = dict(zip(['iris_class_name'], \n",
    "                             [class2string(y_pred_class)]))\n",
    "\n",
    "y_pred_class_prob_dict = dict(zip(['iris_class_setosa_prob',\n",
    "                                  'iris_class_virginica_prob',\n",
    "                                  'iris_class_versicolor_prob'], y_pred_prob[0].tolist()))\n",
    "\n",
    "y_pred_package = {**y_pred_class_dict, **y_pred_class_prob_dict}\n",
    "\n",
    "y_pred_package"
   ]
  },
  {
   "cell_type": "code",
   "execution_count": 3,
   "metadata": {},
   "outputs": [
    {
     "data": {
      "text/plain": [
       "{'iris_class_name': 'Setosa',\n",
       " 'iris_class_setosa_prob': 0.8699828081196058,\n",
       " 'iris_class_versicolor_prob': 2.42258391190011e-05,\n",
       " 'iris_class_virginica_prob': 0.12999296604127533}"
      ]
     },
     "execution_count": 3,
     "metadata": {},
     "output_type": "execute_result"
    }
   ],
   "source": [
    "import pickle\n",
    "import numpy as np\n",
    "\n",
    "with open('pickle_model.pkl', 'rb') as f:\n",
    "    pkl_lr = pickle.load(f)\n",
    "    \n",
    "x_input = np.array([5.1, 3.5, 1.4, 0.2]).reshape(1, -1)\n",
    "\n",
    "y_pred_class = pkl_lr.predict(x_input)\n",
    "y_pred_prob = pkl_lr.predict_proba(x_input)\n",
    "\n",
    "def class2string(x):\n",
    "    if x == np.array([0]):\n",
    "        return 'Setosa'\n",
    "    elif x == np.array([1]):\n",
    "        return 'Virginica'\n",
    "    elif x == np.array([2]):\n",
    "        return 'Versicolor'\n",
    "    else:\n",
    "        raise Exception('Based on the input values provided, unable to predict the Iris class of {}'.format(x_input))\n",
    "\n",
    "y_pred_class_dict = dict(zip(['iris_class_name'], \n",
    "                             [class2string(y_pred_class)]))\n",
    "\n",
    "y_pred_class_prob_dict = dict(zip(['iris_class_setosa_prob',\n",
    "                                  'iris_class_virginica_prob',\n",
    "                                  'iris_class_versicolor_prob'], y_pred_prob[0].tolist()))\n",
    "\n",
    "y_pred_package = {**y_pred_class_dict, **y_pred_class_prob_dict}\n",
    "\n",
    "y_pred_package"
   ]
  },
  {
   "cell_type": "code",
   "execution_count": null,
   "metadata": {
    "collapsed": true
   },
   "outputs": [],
   "source": []
  }
 ],
 "metadata": {
  "kernelspec": {
   "display_name": "Python 3",
   "language": "python",
   "name": "python3"
  },
  "language_info": {
   "codemirror_mode": {
    "name": "ipython",
    "version": 3
   },
   "file_extension": ".py",
   "mimetype": "text/x-python",
   "name": "python",
   "nbconvert_exporter": "python",
   "pygments_lexer": "ipython3",
   "version": "3.6.8"
  }
 },
 "nbformat": 4,
 "nbformat_minor": 2
}
